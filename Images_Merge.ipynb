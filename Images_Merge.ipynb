{
 "cells": [
  {
   "cell_type": "code",
   "execution_count": null,
   "metadata": {},
   "outputs": [],
   "source": [
    "from PIL import Image\n",
    "#Read the two images\n",
    "image1 = Image.open('Row-Wavelet-Images/full_figure9.jpg')\n",
    "image2 = Image.open('Row-Wavelet-Images/full_figure18.jpg')\n",
    "\n",
    "image1 = Crop_CTW_Row_x9_Image(image1)\n",
    "image2 = Crop_CTW_Row_x9_Image(image2)\n",
    "\n",
    "image1_size = image1.size\n",
    "image2_size = image2.size\n",
    "\n",
    "#new_image = Image.new('RGB',(2*image1_size[0], image1_size[1]))\n",
    "#new_image.paste(image1,(0,0))\n",
    "#new_image.paste(image2,(image1_size[0],0))\n",
    "\n",
    "new_image = Image.new('RGB',(image1_size[0], image1_size[1]+image2_size[1]))\n",
    "new_image.paste(image1,(0,0))\n",
    "new_image.paste(image2,(0,image2_size[1]))\n",
    "\n",
    "#new_image.show()\n",
    "new_image.save(\"Row-Wavelet-Images/merged_image_cropped.jpg\",\"JPEG\")"
   ]
  }
 ],
 "metadata": {
  "kernelspec": {
   "display_name": "Python 3",
   "language": "python",
   "name": "python3"
  },
  "language_info": {
   "codemirror_mode": {
    "name": "ipython",
    "version": 3
   },
   "file_extension": ".py",
   "mimetype": "text/x-python",
   "name": "python",
   "nbconvert_exporter": "python",
   "pygments_lexer": "ipython3",
   "version": "3.8.10"
  }
 },
 "nbformat": 4,
 "nbformat_minor": 4
}
